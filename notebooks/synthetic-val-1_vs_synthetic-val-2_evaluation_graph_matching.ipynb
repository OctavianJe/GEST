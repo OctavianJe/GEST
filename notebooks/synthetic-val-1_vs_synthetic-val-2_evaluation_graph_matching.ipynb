{
 "cells": [
  {
   "cell_type": "code",
   "execution_count": 1,
   "id": "a9adc9a5",
   "metadata": {},
   "outputs": [
    {
     "name": "stderr",
     "output_type": "stream",
     "text": [
      "/usr/local/lib/python3.11/site-packages/tqdm/auto.py:21: TqdmWarning: IProgress not found. Please update jupyter and ipywidgets. See https://ipywidgets.readthedocs.io/en/stable/user_install.html\n",
      "  from .autonotebook import tqdm as notebook_tqdm\n"
     ]
    }
   ],
   "source": [
    "import pandas as pd\n",
    "from tqdm.auto import tqdm\n",
    "\n",
    "from gest.data.gest import GEST\n",
    "from gest.service.evaluation.graph_matching.graph import GESTGraph\n",
    "from gest.service.evaluation.graph_matching.similarity import (\n",
    "    SimilarityService,\n",
    "    SimilarityEngine,\n",
    ")\n",
    "from gest.service.evaluation.graph_matching.solver import SolverType\n",
    "from gest.service.evaluation.graph_matching.embedding_type_enum import EmbeddingType"
   ]
  },
  {
   "cell_type": "code",
   "execution_count": 2,
   "id": "0c8d9e4c",
   "metadata": {},
   "outputs": [],
   "source": [
    "GEST_CSV_PATH = \"/workspaces/GEST/data/gest.csv\"\n",
    "REQUIRED_COLUMNS = {\"dataset\", \"id\", \"text\", \"gest\"}"
   ]
  },
  {
   "cell_type": "code",
   "execution_count": 3,
   "id": "12eae60e",
   "metadata": {},
   "outputs": [],
   "source": [
    "def ensure_required_columns(df: pd.DataFrame, name: str, required: set):\n",
    "    missing = required - set(df.columns)\n",
    "    if missing:\n",
    "        raise ValueError(f\"{name} is missing required columns: {sorted(missing)}\")\n",
    "\n",
    "\n",
    "def ensure_duplicated_pairs(df: pd.DataFrame, name: str) -> pd.DataFrame:\n",
    "    \"\"\"Keep only (dataset,id) keys with >=2 distinct texts.\"\"\"\n",
    "    dup_mask = df.duplicated([\"dataset\", \"id\"], keep=False)\n",
    "    if not dup_mask.any():\n",
    "        raise ValueError(f\"{name} has no duplicated (dataset, id) pairs.\")\n",
    "    dups = df.loc[dup_mask, [\"dataset\", \"id\", \"text\", \"gest\"]].copy()\n",
    "    per_key = dups.groupby([\"dataset\", \"id\"])[\"text\"].nunique()\n",
    "    dups = dups.merge(\n",
    "        per_key[per_key > 1].rename(\"n_unique_texts\").reset_index(),\n",
    "        on=[\"dataset\", \"id\"],\n",
    "        how=\"inner\",\n",
    "    ).drop(columns=\"n_unique_texts\")\n",
    "    if dups.empty:\n",
    "        raise ValueError(\n",
    "            \"All duplicated keys have identical text only; nothing to pair.\"\n",
    "        )\n",
    "    return dups\n",
    "\n",
    "\n",
    "def safe_sim(service: SimilarityService, g1: GESTGraph, g2: GESTGraph) -> float:\n",
    "    try:\n",
    "        return float(service.graph_similarity_normalized(g1, g2))\n",
    "    except Exception:\n",
    "        return 0.0"
   ]
  },
  {
   "cell_type": "code",
   "execution_count": 4,
   "id": "bae02a13",
   "metadata": {},
   "outputs": [],
   "source": [
    "synthetic = pd.read_csv(GEST_CSV_PATH)\n",
    "ensure_required_columns(synthetic, \"synthetic\", REQUIRED_COLUMNS)"
   ]
  },
  {
   "cell_type": "code",
   "execution_count": 5,
   "id": "abf86c8b",
   "metadata": {},
   "outputs": [],
   "source": [
    "dups = ensure_duplicated_pairs(synthetic, \"synthetic\").reset_index(names=\"row_id\")\n",
    "\n",
    "pairs = dups.merge(dups, on=[\"dataset\", \"id\"], how=\"inner\", suffixes=(\"_val1\", \"_val2\"))\n",
    "pairs = pairs[pairs[\"row_id_val1\"] < pairs[\"row_id_val2\"]].copy()\n",
    "pairs = pairs[\n",
    "    (pairs[\"text_val1\"] != pairs[\"text_val2\"])\n",
    "    & (pairs[\"gest_val1\"] != pairs[\"gest_val2\"])\n",
    "].copy()\n",
    "\n",
    "if pairs.empty:\n",
    "    raise ValueError(\"No valid pairs after filtering (need differing text & GEST).\")"
   ]
  },
  {
   "cell_type": "code",
   "execution_count": 6,
   "id": "73677f27",
   "metadata": {},
   "outputs": [
    {
     "name": "stderr",
     "output_type": "stream",
     "text": [
      "Parsing GEST val1: 100%|██████████| 97/97 [00:00<00:00, 1776.28it/s]\n"
     ]
    }
   ],
   "source": [
    "tqdm.pandas(desc=\"Parsing GEST val1\")\n",
    "pairs[\"g1\"] = pairs[\"gest_val1\"].progress_apply(\n",
    "    lambda s: GESTGraph(gest=GEST.model_validate_json(s))\n",
    ")"
   ]
  },
  {
   "cell_type": "code",
   "execution_count": 7,
   "id": "e4ff2498",
   "metadata": {},
   "outputs": [
    {
     "name": "stderr",
     "output_type": "stream",
     "text": [
      "Parsing GEST val2: 100%|██████████| 97/97 [00:00<00:00, 1147.98it/s]\n"
     ]
    }
   ],
   "source": [
    "tqdm.pandas(desc=\"Parsing GEST val2\")\n",
    "pairs[\"g2\"] = pairs[\"gest_val2\"].progress_apply(\n",
    "    lambda s: GESTGraph(gest=GEST.model_validate_json(s))\n",
    ")"
   ]
  },
  {
   "cell_type": "code",
   "execution_count": 8,
   "id": "c08e894d",
   "metadata": {},
   "outputs": [],
   "source": [
    "configurations = {\n",
    "    \"Spectral_GloVe300\": SimilarityService(\n",
    "        engine=SimilarityEngine(\n",
    "            solver_type=SolverType.SPECTRAL,\n",
    "            embedding_type=EmbeddingType.GLOVE300,\n",
    "            use_edges=True,\n",
    "        )\n",
    "    ),\n",
    "    \"NGM_GloVe300\": SimilarityService(\n",
    "        engine=SimilarityEngine(\n",
    "            solver_type=SolverType.NGM,\n",
    "            embedding_type=EmbeddingType.GLOVE300,\n",
    "            use_edges=True,\n",
    "        )\n",
    "    ),\n",
    "    \"Spectral_GloVe300_NoEdges\": SimilarityService(\n",
    "        engine=SimilarityEngine(\n",
    "            solver_type=SolverType.SPECTRAL,\n",
    "            embedding_type=EmbeddingType.GLOVE300,\n",
    "            use_edges=False,\n",
    "        )\n",
    "    ),\n",
    "}"
   ]
  },
  {
   "cell_type": "code",
   "execution_count": 9,
   "id": "0e523448",
   "metadata": {},
   "outputs": [
    {
     "name": "stderr",
     "output_type": "stream",
     "text": [
      "Spectral_GloVe300: 100%|██████████| 97/97 [00:27<00:00,  3.56it/s]\n",
      "NGM_GloVe300: 100%|██████████| 97/97 [00:23<00:00,  4.15it/s]\n",
      "Spectral_GloVe300_NoEdges: 100%|██████████| 97/97 [00:02<00:00, 35.93it/s]\n"
     ]
    }
   ],
   "source": [
    "means = {}\n",
    "for name, service in configurations.items():\n",
    "    total, n = 0.0, 0\n",
    "    for _, r in tqdm(pairs.iterrows(), total=len(pairs), desc=f\"{name}\"):\n",
    "        total += safe_sim(service, r[\"g1\"], r[\"g2\"])\n",
    "        n += 1\n",
    "    means[name] = total / n if n else float(\"nan\")"
   ]
  },
  {
   "cell_type": "code",
   "execution_count": 10,
   "id": "de36c454",
   "metadata": {},
   "outputs": [
    {
     "name": "stdout",
     "output_type": "stream",
     "text": [
      "'Spectral_GloVe300' mean: 0.372793\n",
      "'NGM_GloVe300' mean: 0.098853\n",
      "'Spectral_GloVe300_NoEdges' mean: 0.782064\n"
     ]
    }
   ],
   "source": [
    "print(f\"'Spectral_GloVe300' mean: {means['Spectral_GloVe300']:.6f}\")\n",
    "print(f\"'NGM_GloVe300' mean: {means['NGM_GloVe300']:.6f}\")\n",
    "print(f\"'Spectral_GloVe300_NoEdges' mean: {means['Spectral_GloVe300_NoEdges']:.6f}\")"
   ]
  }
 ],
 "metadata": {
  "kernelspec": {
   "display_name": "Python 3",
   "language": "python",
   "name": "python3"
  },
  "language_info": {
   "codemirror_mode": {
    "name": "ipython",
    "version": 3
   },
   "file_extension": ".py",
   "mimetype": "text/x-python",
   "name": "python",
   "nbconvert_exporter": "python",
   "pygments_lexer": "ipython3",
   "version": "3.11.13"
  }
 },
 "nbformat": 4,
 "nbformat_minor": 5
}
